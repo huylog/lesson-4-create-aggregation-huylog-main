{
    "metadata": {
        "kernelspec": {
            "name": "SQL",
            "display_name": "SQL",
            "language": "sql"
        },
        "language_info": {
            "name": "sql",
            "version": ""
        }
    },
    "nbformat_minor": 2,
    "nbformat": 4,
    "cells": [
        {
            "cell_type": "markdown",
            "source": [
                "# Aggregation\n",
                "\n",
                "## **Getting Started**\n",
                "\n",
                "This week we will be learning how to how to aggregate data using queries.\n",
                "\n",
                "**Before beginning:** It is recommended that you open/download the _guitar store ERD_ that is available in the Github repo from the Create 3 assignment so you can review it during this assignment."
            ],
            "metadata": {
                "azdata_cell_guid": "c49df266-eea7-418f-acc9-9933b50f3469"
            },
            "attachments": {}
        },
        {
            "cell_type": "markdown",
            "source": [
                "## **Aggregates**\n",
                "\n",
                "We can use SQL code to perform aggregate functions on our data. This allows us to do calculations like summing, finding the maximum, or taking an average. These aggregate functions can be added to the select statement of our queries like the code cell below. In this code cell we are going to find the total amount of orders that have been placed."
            ],
            "metadata": {
                "azdata_cell_guid": "5236f051-1b23-4787-a637-7a62b9e9b305"
            },
            "attachments": {}
        },
        {
            "cell_type": "code",
            "source": [
                "SELECT COUNT(*)\n",
                "FROM gs_orders"
            ],
            "metadata": {
                "azdata_cell_guid": "8f8b02a6-dca1-4ca4-9795-b4b2e0407183",
                "language": "sql",
                "tags": []
            },
            "outputs": [
                {
                    "output_type": "display_data",
                    "data": {
                        "text/html": "(1 row affected)"
                    },
                    "metadata": {}
                },
                {
                    "output_type": "display_data",
                    "data": {
                        "text/html": "Total execution time: 00:00:00.044"
                    },
                    "metadata": {}
                },
                {
                    "output_type": "execute_result",
                    "metadata": {},
                    "execution_count": 2,
                    "data": {
                        "application/vnd.dataresource+json": {
                            "schema": {
                                "fields": [
                                    {
                                        "name": "(No column name)"
                                    }
                                ]
                            },
                            "data": [
                                {
                                    "(No column name)": "41"
                                }
                            ]
                        },
                        "text/html": [
                            "<table>",
                            "<tr><th>(No column name)</th></tr>",
                            "<tr><td>41</td></tr>",
                            "</table>"
                        ]
                    }
                }
            ],
            "execution_count": 2
        },
        {
            "cell_type": "markdown",
            "source": [
                "In the above query, we did a count operation on all records in the order table. We used the \\* because we wanted to count all records in the table, without referencing a specific column. This returned 41 records. The result did not have a name for our column because we were doing an operation. It is good practice to alias columns like this so that the output is clear. Below is an example of how we can use AS to alias a column."
            ],
            "metadata": {
                "language": "sql",
                "azdata_cell_guid": "86853871-0cf5-4a67-b5fc-079b04735718"
            },
            "attachments": {}
        },
        {
            "cell_type": "code",
            "source": [
                "SELECT COUNT(*) AS num_of_orders\n",
                "FROM gs_orders"
            ],
            "metadata": {
                "language": "sql",
                "azdata_cell_guid": "59ae9019-2884-4621-9567-8a15a03b8424"
            },
            "outputs": [
                {
                    "output_type": "display_data",
                    "data": {
                        "text/html": "(1 row affected)"
                    },
                    "metadata": {}
                },
                {
                    "output_type": "display_data",
                    "data": {
                        "text/html": "Total execution time: 00:00:00.042"
                    },
                    "metadata": {}
                },
                {
                    "output_type": "execute_result",
                    "metadata": {},
                    "execution_count": 3,
                    "data": {
                        "application/vnd.dataresource+json": {
                            "schema": {
                                "fields": [
                                    {
                                        "name": "num_of_orders"
                                    }
                                ]
                            },
                            "data": [
                                {
                                    "num_of_orders": "41"
                                }
                            ]
                        },
                        "text/html": [
                            "<table>",
                            "<tr><th>num_of_orders</th></tr>",
                            "<tr><td>41</td></tr>",
                            "</table>"
                        ]
                    }
                }
            ],
            "execution_count": 3
        },
        {
            "cell_type": "markdown",
            "source": [
                "✏️ **Practice**\n",
                "\n",
                "Try making a new query that will show the sum of all the tax charged in the order table. Name the aggregate field \"TotalTax\""
            ],
            "metadata": {
                "language": "sql",
                "azdata_cell_guid": "b9f32ca6-6511-4bd6-aca3-cd23fa4a0fb0"
            },
            "attachments": {}
        },
        {
            "cell_type": "code",
            "source": [
                "--Type your query below this line\r\n",
                "SELECT SUM(o.tax_amount) AS TotalTax\r\n",
                "FROM gs_orders as o"
            ],
            "metadata": {
                "language": "sql",
                "azdata_cell_guid": "edafaec7-bf63-451c-b5d6-f5456176e6d0"
            },
            "outputs": [
                {
                    "output_type": "display_data",
                    "data": {
                        "text/html": "(1 row affected)"
                    },
                    "metadata": {}
                },
                {
                    "output_type": "display_data",
                    "data": {
                        "text/html": "Total execution time: 00:00:00.046"
                    },
                    "metadata": {}
                },
                {
                    "output_type": "execute_result",
                    "metadata": {},
                    "execution_count": 11,
                    "data": {
                        "application/vnd.dataresource+json": {
                            "schema": {
                                "fields": [
                                    {
                                        "name": "TotalTax"
                                    }
                                ]
                            },
                            "data": [
                                {
                                    "TotalTax": "2541.96"
                                }
                            ]
                        },
                        "text/html": [
                            "<table>",
                            "<tr><th>TotalTax</th></tr>",
                            "<tr><td>2541.96</td></tr>",
                            "</table>"
                        ]
                    }
                }
            ],
            "execution_count": 11
        },
        {
            "cell_type": "markdown",
            "source": [
                "If done correctly, your query should return 2541.96"
            ],
            "metadata": {
                "language": "sql",
                "azdata_cell_guid": "c3a96a29-fd3f-4ea6-b1ff-13c940c67711"
            },
            "attachments": {}
        },
        {
            "cell_type": "markdown",
            "source": [
                "When using aggregates, you are able to show aggregate values as subtotals of different groups. For example, instaed of showing just the total count, we could show the count of orders grouped by any of the other fields in the table. To do this, we use a GROUP BY clause. In the below code cell we will query the total number of orders by CardType."
            ],
            "metadata": {
                "language": "sql",
                "azdata_cell_guid": "59b7e97a-4994-407b-bb03-1705445d5970"
            },
            "attachments": {}
        },
        {
            "cell_type": "code",
            "source": [
                "SELECT o.card_type, COUNT(*) AS total_orders\n",
                "FROM gs_orders AS o\n",
                "GROUP BY o.card_type"
            ],
            "metadata": {
                "language": "sql",
                "azdata_cell_guid": "fa7b52c3-1c79-43c2-87a3-ffac355a3265"
            },
            "outputs": [],
            "execution_count": null
        },
        {
            "cell_type": "markdown",
            "source": [
                "You can see that the above query returns the total number of orders for each type of card. If we add the values from the TotalOrders column, we get 41, which is out total number of orders from before. By using joins and aggregations, we can make our queries more powerful. Below is an example that shows how many products are in each category."
            ],
            "metadata": {
                "language": "sql",
                "azdata_cell_guid": "aff95181-19d3-4443-afca-19399bed1412"
            },
            "attachments": {}
        },
        {
            "cell_type": "code",
            "source": [
                "SELECT c.category_name, COUNT(*) AS total_products\n",
                "FROM gs_categories as c\n",
                "JOIN gs_products as p ON c.category_id = p.category_id\n",
                "GROUP BY c.category_name"
            ],
            "metadata": {
                "language": "sql",
                "azdata_cell_guid": "087c386c-1666-470b-be3f-660cb3f2631f"
            },
            "outputs": [],
            "execution_count": null
        },
        {
            "cell_type": "markdown",
            "source": [
                "In the above cell we were able to group records/data from a related table using our JOIN statement."
            ],
            "metadata": {
                "language": "sql",
                "azdata_cell_guid": "037dc037-4a78-4279-9565-e7fba2fe9573"
            },
            "attachments": {}
        },
        {
            "cell_type": "markdown",
            "source": [
                "When working with aggregates, every column of your output must either be some type of grouping, or an aggregate. Simply put, if you aren't using the column for aggregation, it must be part of your GROUP BY clause.\n",
                "\n",
                "Below is a query where we do not include all columns in either a group by or an aggregate function. It will result in an error."
            ],
            "metadata": {
                "language": "sql",
                "azdata_cell_guid": "6248fdd4-3b51-40dd-bc0b-dd056fa69e5f"
            },
            "attachments": {}
        },
        {
            "cell_type": "code",
            "source": [
                "SELECT c.category_id, c.category_name, COUNT(*) AS total_products\n",
                "FROM gs_categories as c\n",
                "JOIN gs_products as p ON c.category_id = p.category_id\n",
                "GROUP BY c.category_name"
            ],
            "metadata": {
                "language": "sql",
                "azdata_cell_guid": "d07b7685-4b43-453a-bc05-bee9a16c9d8b"
            },
            "outputs": [],
            "execution_count": null
        },
        {
            "cell_type": "markdown",
            "source": [
                "To fix the above query, we need to include _c.category\\_id_ in our GROUP BY clause. Once that is done, all columns in the SELECT clause will be included in an aggregate function, or in the GROUP BY clause."
            ],
            "metadata": {
                "language": "sql",
                "azdata_cell_guid": "d010fd65-ea68-46f8-8509-bdd0b5d22dd5"
            },
            "attachments": {}
        },
        {
            "cell_type": "code",
            "source": [
                "SELECT c.category_id, c.category_name, COUNT(*) AS total_products\n",
                "FROM gs_categories as c\n",
                "JOIN gs_products as p ON c.category_id = p.category_id\n",
                "GROUP BY c.category_id, c.category_name"
            ],
            "metadata": {
                "language": "sql",
                "azdata_cell_guid": "31c5bb73-62dd-4fa2-91db-9ba7e36c1aad"
            },
            "outputs": [],
            "execution_count": null
        },
        {
            "cell_type": "markdown",
            "source": [
                "We can apply criteria to these queries as well. In the below code cell we will be using SELECT, FROM, WHERE, JOIN, and GROUP BY to see how many products there are in each category that are listed at less than $800."
            ],
            "metadata": {
                "language": "sql",
                "azdata_cell_guid": "50c0cd56-949f-444c-82bc-28cb04f401a8"
            },
            "attachments": {}
        },
        {
            "cell_type": "code",
            "source": [
                "SELECT c.category_name, COUNT(*) AS total_products\n",
                "FROM gs_categories as c\n",
                "JOIN gs_products AS p ON c.category_id = p.category_id\n",
                "WHERE p.list_price < 800\n",
                "GROUP BY c.category_name"
            ],
            "metadata": {
                "language": "sql",
                "azdata_cell_guid": "eb92d38a-35f1-48de-b7d0-11c541dcd964"
            },
            "outputs": [],
            "execution_count": null
        },
        {
            "cell_type": "markdown",
            "source": [
                "The above cell gives a return that tells us that two of the basses, two of the drums, and four of the guitars in the product table have a list price of less than $800.\n",
                "\n",
                "Notice that we had to put our WHERE clause before our GROUP BY clause. SQL is very picky about the order of your statements. As a general rule, your statements should be in this order SELECT -\\> FROM -\\> JOIN -\\> WHERE -\\> GROUP BY -\\> HAVING -\\> ORDER BY.  Remeber, this is different than our SQL order of operations. SQL statements are not executed in the order that they are written.\n",
                "\n",
                "This would be an excellent time to cover the HAVING clause. HAVING is similar to WHERE, but applies after aggregation has occured. When using WHERE, you are filtering the data before doing any aggregation, like when we were checking the price just now. When you are using HAVING, you are checking the value after aggregation, so you would be filtering based on the _new_ value for that field. In the below code cell is an example of HAVING that limits the results of our query to Categories that only offer 2 products."
            ],
            "metadata": {
                "language": "sql",
                "azdata_cell_guid": "49fd3f54-b1bf-4058-8cc1-082d63b6ef75"
            },
            "attachments": {}
        },
        {
            "cell_type": "code",
            "source": [
                "SELECT c.category_name, COUNT(*) AS total_products\n",
                "FROM gs_categories AS c\n",
                "JOIN gs_products AS p ON c.category_id = p.category_id\n",
                "GROUP BY c.category_name\n",
                "HAVING COUNT(*) = 2"
            ],
            "metadata": {
                "language": "sql",
                "azdata_cell_guid": "c67f9504-198f-47a6-a10e-2ef2ebbdb318"
            },
            "outputs": [
                {
                    "output_type": "display_data",
                    "data": {
                        "text/html": "(2 rows affected)"
                    },
                    "metadata": {}
                },
                {
                    "output_type": "display_data",
                    "data": {
                        "text/html": "Total execution time: 00:00:00.042"
                    },
                    "metadata": {}
                },
                {
                    "output_type": "execute_result",
                    "metadata": {},
                    "execution_count": 20,
                    "data": {
                        "application/vnd.dataresource+json": {
                            "schema": {
                                "fields": [
                                    {
                                        "name": "category_name"
                                    },
                                    {
                                        "name": "total_products"
                                    }
                                ]
                            },
                            "data": [
                                {
                                    "category_name": "Basses",
                                    "total_products": "2"
                                },
                                {
                                    "category_name": "Drums",
                                    "total_products": "2"
                                }
                            ]
                        },
                        "text/html": [
                            "<table>",
                            "<tr><th>category_name</th><th>total_products</th></tr>",
                            "<tr><td>Basses</td><td>2</td></tr>",
                            "<tr><td>Drums</td><td>2</td></tr>",
                            "</table>"
                        ]
                    }
                }
            ],
            "execution_count": 20
        },
        {
            "cell_type": "markdown",
            "source": [
                "In the above cell we can see that we are no longer pulling in the guitars category because it does not have exactly two products. In SQL there is an order of operations, just like in math. Below is the full order:\n",
                "\n",
                "1. FROM (Selecting which tables)\n",
                "2. WHERE (Filtering the tables)\n",
                "3. GROUP BY (Grouping data into categories)\n",
                "4. HAVING (Filtering based on results of aggregation)\n",
                "5. SELECT (Column selection, aggregation, and column aliasing. Since this comes after having, you can't use column aliases in your having statement)\n",
                "6. ORDER BY (Sorting)\n",
                "7. LIMIT (Limiting amount of rows in result)"
            ],
            "metadata": {
                "azdata_cell_guid": "4ccf054d-cf4e-40dd-97e0-637ddbfe2273"
            },
            "attachments": {}
        },
        {
            "cell_type": "markdown",
            "source": [
                "Up to this point, we have only used the COUNT function. There are other aggregation functions that we can use, such as:\n",
                "\n",
                "- SUM (Add all column values together\n",
                "- AVG (Get average of column values)\n",
                "- MIN (Return lowest column value)\n",
                "- MAX (Return highest column value)\n",
                "\n",
                "These functions are meant for numeric data types and must be applied to a specific column, unlike the COUNT function.\n",
                "\n",
                "  \n",
                "\n",
                "In the below code cell we will use the SUM function to show the total amount charged for shipping on all orders."
            ],
            "metadata": {
                "azdata_cell_guid": "a974d594-8f8f-4113-b6cc-d31a3d60faa8"
            },
            "attachments": {}
        },
        {
            "cell_type": "code",
            "source": [
                "SELECT SUM(o.ship_amount) AS total_ship_amount\n",
                "FROM gs_orders as o"
            ],
            "metadata": {
                "azdata_cell_guid": "d881d78c-a135-4082-8e4c-becf62a6eda3",
                "language": "sql"
            },
            "outputs": [
                {
                    "output_type": "display_data",
                    "data": {
                        "text/html": "(1 row affected)"
                    },
                    "metadata": {}
                },
                {
                    "output_type": "display_data",
                    "data": {
                        "text/html": "Total execution time: 00:00:00.048"
                    },
                    "metadata": {}
                },
                {
                    "output_type": "execute_result",
                    "metadata": {},
                    "execution_count": 9,
                    "data": {
                        "application/vnd.dataresource+json": {
                            "schema": {
                                "fields": [
                                    {
                                        "name": "total_ship_amount"
                                    }
                                ]
                            },
                            "data": [
                                {
                                    "total_ship_amount": "300.00"
                                }
                            ]
                        },
                        "text/html": [
                            "<table>",
                            "<tr><th>total_ship_amount</th></tr>",
                            "<tr><td>300.00</td></tr>",
                            "</table>"
                        ]
                    }
                }
            ],
            "execution_count": 9
        },
        {
            "cell_type": "markdown",
            "source": [
                "We can use a GROUP BY clause with these aggregrate functions as well. In the below cell we will group the total shipping amount by the customer id to see how much each customer is paying in shipping."
            ],
            "metadata": {
                "language": "sql",
                "azdata_cell_guid": "fbdbcf67-0b2a-4aa3-929f-9972572ecd2a"
            },
            "attachments": {}
        },
        {
            "cell_type": "code",
            "source": [
                "SELECT o.customer_id, SUM(o.ship_amount) AS total_ship_amount\n",
                "FROM gs_orders as o\n",
                "GROUP BY o.customer_id"
            ],
            "metadata": {
                "language": "sql",
                "azdata_cell_guid": "d742a1e7-384c-4aa3-af35-9c0fff8f1bf4"
            },
            "outputs": [
                {
                    "output_type": "display_data",
                    "data": {
                        "text/html": "(35 rows affected)"
                    },
                    "metadata": {}
                },
                {
                    "output_type": "display_data",
                    "data": {
                        "text/html": "Total execution time: 00:00:00.049"
                    },
                    "metadata": {}
                },
                {
                    "output_type": "execute_result",
                    "metadata": {},
                    "execution_count": 12,
                    "data": {
                        "application/vnd.dataresource+json": {
                            "schema": {
                                "fields": [
                                    {
                                        "name": "customer_id"
                                    },
                                    {
                                        "name": "total_ship_amount"
                                    }
                                ]
                            },
                            "data": [
                                {
                                    "customer_id": "1",
                                    "total_ship_amount": "15.00"
                                },
                                {
                                    "customer_id": "2",
                                    "total_ship_amount": "5.00"
                                },
                                {
                                    "customer_id": "3",
                                    "total_ship_amount": "10.00"
                                },
                                {
                                    "customer_id": "4",
                                    "total_ship_amount": "45.00"
                                },
                                {
                                    "customer_id": "5",
                                    "total_ship_amount": "5.00"
                                },
                                {
                                    "customer_id": "6",
                                    "total_ship_amount": "15.00"
                                },
                                {
                                    "customer_id": "7",
                                    "total_ship_amount": "5.00"
                                },
                                {
                                    "customer_id": "8",
                                    "total_ship_amount": "10.00"
                                },
                                {
                                    "customer_id": "9",
                                    "total_ship_amount": "5.00"
                                },
                                {
                                    "customer_id": "10",
                                    "total_ship_amount": "5.00"
                                },
                                {
                                    "customer_id": "11",
                                    "total_ship_amount": "5.00"
                                },
                                {
                                    "customer_id": "12",
                                    "total_ship_amount": "10.00"
                                },
                                {
                                    "customer_id": "13",
                                    "total_ship_amount": "5.00"
                                },
                                {
                                    "customer_id": "14",
                                    "total_ship_amount": "10.00"
                                },
                                {
                                    "customer_id": "15",
                                    "total_ship_amount": "5.00"
                                },
                                {
                                    "customer_id": "16",
                                    "total_ship_amount": "5.00"
                                },
                                {
                                    "customer_id": "17",
                                    "total_ship_amount": "10.00"
                                },
                                {
                                    "customer_id": "18",
                                    "total_ship_amount": "10.00"
                                },
                                {
                                    "customer_id": "19",
                                    "total_ship_amount": "10.00"
                                },
                                {
                                    "customer_id": "20",
                                    "total_ship_amount": "5.00"
                                },
                                {
                                    "customer_id": "21",
                                    "total_ship_amount": "5.00"
                                },
                                {
                                    "customer_id": "22",
                                    "total_ship_amount": "10.00"
                                },
                                {
                                    "customer_id": "23",
                                    "total_ship_amount": "5.00"
                                },
                                {
                                    "customer_id": "24",
                                    "total_ship_amount": "5.00"
                                },
                                {
                                    "customer_id": "25",
                                    "total_ship_amount": "5.00"
                                },
                                {
                                    "customer_id": "26",
                                    "total_ship_amount": "5.00"
                                },
                                {
                                    "customer_id": "27",
                                    "total_ship_amount": "10.00"
                                },
                                {
                                    "customer_id": "28",
                                    "total_ship_amount": "10.00"
                                },
                                {
                                    "customer_id": "29",
                                    "total_ship_amount": "10.00"
                                },
                                {
                                    "customer_id": "30",
                                    "total_ship_amount": "5.00"
                                },
                                {
                                    "customer_id": "31",
                                    "total_ship_amount": "5.00"
                                },
                                {
                                    "customer_id": "32",
                                    "total_ship_amount": "5.00"
                                },
                                {
                                    "customer_id": "33",
                                    "total_ship_amount": "10.00"
                                },
                                {
                                    "customer_id": "34",
                                    "total_ship_amount": "5.00"
                                },
                                {
                                    "customer_id": "35",
                                    "total_ship_amount": "10.00"
                                }
                            ]
                        },
                        "text/html": [
                            "<table>",
                            "<tr><th>customer_id</th><th>total_ship_amount</th></tr>",
                            "<tr><td>1</td><td>15.00</td></tr>",
                            "<tr><td>2</td><td>5.00</td></tr>",
                            "<tr><td>3</td><td>10.00</td></tr>",
                            "<tr><td>4</td><td>45.00</td></tr>",
                            "<tr><td>5</td><td>5.00</td></tr>",
                            "<tr><td>6</td><td>15.00</td></tr>",
                            "<tr><td>7</td><td>5.00</td></tr>",
                            "<tr><td>8</td><td>10.00</td></tr>",
                            "<tr><td>9</td><td>5.00</td></tr>",
                            "<tr><td>10</td><td>5.00</td></tr>",
                            "<tr><td>11</td><td>5.00</td></tr>",
                            "<tr><td>12</td><td>10.00</td></tr>",
                            "<tr><td>13</td><td>5.00</td></tr>",
                            "<tr><td>14</td><td>10.00</td></tr>",
                            "<tr><td>15</td><td>5.00</td></tr>",
                            "<tr><td>16</td><td>5.00</td></tr>",
                            "<tr><td>17</td><td>10.00</td></tr>",
                            "<tr><td>18</td><td>10.00</td></tr>",
                            "<tr><td>19</td><td>10.00</td></tr>",
                            "<tr><td>20</td><td>5.00</td></tr>",
                            "<tr><td>21</td><td>5.00</td></tr>",
                            "<tr><td>22</td><td>10.00</td></tr>",
                            "<tr><td>23</td><td>5.00</td></tr>",
                            "<tr><td>24</td><td>5.00</td></tr>",
                            "<tr><td>25</td><td>5.00</td></tr>",
                            "<tr><td>26</td><td>5.00</td></tr>",
                            "<tr><td>27</td><td>10.00</td></tr>",
                            "<tr><td>28</td><td>10.00</td></tr>",
                            "<tr><td>29</td><td>10.00</td></tr>",
                            "<tr><td>30</td><td>5.00</td></tr>",
                            "<tr><td>31</td><td>5.00</td></tr>",
                            "<tr><td>32</td><td>5.00</td></tr>",
                            "<tr><td>33</td><td>10.00</td></tr>",
                            "<tr><td>34</td><td>5.00</td></tr>",
                            "<tr><td>35</td><td>10.00</td></tr>",
                            "</table>"
                        ]
                    }
                }
            ],
            "execution_count": 12
        },
        {
            "cell_type": "markdown",
            "source": [
                "When needed, you can include multiple aggregate functions within your return. In the below example we will add the count of orders to our existing query. This will show the total ship amount for each customer, as well as how many orders they placed."
            ],
            "metadata": {
                "language": "sql",
                "azdata_cell_guid": "9b0301a6-b9e9-4494-8d4f-5a5a50e37301"
            },
            "attachments": {}
        },
        {
            "cell_type": "code",
            "source": [
                "SELECT o.customer_id, SUM(o.ship_amount) AS total_ship_amount, COUNT(*) AS total_orders\n",
                "FROM gs_orders as o\n",
                "GROUP BY o.customer_id"
            ],
            "metadata": {
                "language": "sql",
                "azdata_cell_guid": "d6b370de-92d2-402e-9d2a-d87189039a51"
            },
            "outputs": [
                {
                    "output_type": "display_data",
                    "data": {
                        "text/html": "(35 rows affected)"
                    },
                    "metadata": {}
                },
                {
                    "output_type": "display_data",
                    "data": {
                        "text/html": "Total execution time: 00:00:00.051"
                    },
                    "metadata": {}
                },
                {
                    "output_type": "execute_result",
                    "metadata": {},
                    "execution_count": 13,
                    "data": {
                        "application/vnd.dataresource+json": {
                            "schema": {
                                "fields": [
                                    {
                                        "name": "customer_id"
                                    },
                                    {
                                        "name": "total_ship_amount"
                                    },
                                    {
                                        "name": "total_orders"
                                    }
                                ]
                            },
                            "data": [
                                {
                                    "customer_id": "1",
                                    "total_ship_amount": "15.00",
                                    "total_orders": "2"
                                },
                                {
                                    "customer_id": "2",
                                    "total_ship_amount": "5.00",
                                    "total_orders": "1"
                                },
                                {
                                    "customer_id": "3",
                                    "total_ship_amount": "10.00",
                                    "total_orders": "1"
                                },
                                {
                                    "customer_id": "4",
                                    "total_ship_amount": "45.00",
                                    "total_orders": "3"
                                },
                                {
                                    "customer_id": "5",
                                    "total_ship_amount": "5.00",
                                    "total_orders": "1"
                                },
                                {
                                    "customer_id": "6",
                                    "total_ship_amount": "15.00",
                                    "total_orders": "1"
                                },
                                {
                                    "customer_id": "7",
                                    "total_ship_amount": "5.00",
                                    "total_orders": "1"
                                },
                                {
                                    "customer_id": "8",
                                    "total_ship_amount": "10.00",
                                    "total_orders": "2"
                                },
                                {
                                    "customer_id": "9",
                                    "total_ship_amount": "5.00",
                                    "total_orders": "1"
                                },
                                {
                                    "customer_id": "10",
                                    "total_ship_amount": "5.00",
                                    "total_orders": "1"
                                },
                                {
                                    "customer_id": "11",
                                    "total_ship_amount": "5.00",
                                    "total_orders": "1"
                                },
                                {
                                    "customer_id": "12",
                                    "total_ship_amount": "10.00",
                                    "total_orders": "1"
                                },
                                {
                                    "customer_id": "13",
                                    "total_ship_amount": "5.00",
                                    "total_orders": "1"
                                },
                                {
                                    "customer_id": "14",
                                    "total_ship_amount": "10.00",
                                    "total_orders": "1"
                                },
                                {
                                    "customer_id": "15",
                                    "total_ship_amount": "5.00",
                                    "total_orders": "1"
                                },
                                {
                                    "customer_id": "16",
                                    "total_ship_amount": "5.00",
                                    "total_orders": "1"
                                },
                                {
                                    "customer_id": "17",
                                    "total_ship_amount": "10.00",
                                    "total_orders": "1"
                                },
                                {
                                    "customer_id": "18",
                                    "total_ship_amount": "10.00",
                                    "total_orders": "2"
                                },
                                {
                                    "customer_id": "19",
                                    "total_ship_amount": "10.00",
                                    "total_orders": "1"
                                },
                                {
                                    "customer_id": "20",
                                    "total_ship_amount": "5.00",
                                    "total_orders": "1"
                                },
                                {
                                    "customer_id": "21",
                                    "total_ship_amount": "5.00",
                                    "total_orders": "1"
                                },
                                {
                                    "customer_id": "22",
                                    "total_ship_amount": "10.00",
                                    "total_orders": "1"
                                },
                                {
                                    "customer_id": "23",
                                    "total_ship_amount": "5.00",
                                    "total_orders": "1"
                                },
                                {
                                    "customer_id": "24",
                                    "total_ship_amount": "5.00",
                                    "total_orders": "1"
                                },
                                {
                                    "customer_id": "25",
                                    "total_ship_amount": "5.00",
                                    "total_orders": "1"
                                },
                                {
                                    "customer_id": "26",
                                    "total_ship_amount": "5.00",
                                    "total_orders": "1"
                                },
                                {
                                    "customer_id": "27",
                                    "total_ship_amount": "10.00",
                                    "total_orders": "1"
                                },
                                {
                                    "customer_id": "28",
                                    "total_ship_amount": "10.00",
                                    "total_orders": "1"
                                },
                                {
                                    "customer_id": "29",
                                    "total_ship_amount": "10.00",
                                    "total_orders": "2"
                                },
                                {
                                    "customer_id": "30",
                                    "total_ship_amount": "5.00",
                                    "total_orders": "1"
                                },
                                {
                                    "customer_id": "31",
                                    "total_ship_amount": "5.00",
                                    "total_orders": "1"
                                },
                                {
                                    "customer_id": "32",
                                    "total_ship_amount": "5.00",
                                    "total_orders": "1"
                                },
                                {
                                    "customer_id": "33",
                                    "total_ship_amount": "10.00",
                                    "total_orders": "1"
                                },
                                {
                                    "customer_id": "34",
                                    "total_ship_amount": "5.00",
                                    "total_orders": "1"
                                },
                                {
                                    "customer_id": "35",
                                    "total_ship_amount": "10.00",
                                    "total_orders": "1"
                                }
                            ]
                        },
                        "text/html": [
                            "<table>",
                            "<tr><th>customer_id</th><th>total_ship_amount</th><th>total_orders</th></tr>",
                            "<tr><td>1</td><td>15.00</td><td>2</td></tr>",
                            "<tr><td>2</td><td>5.00</td><td>1</td></tr>",
                            "<tr><td>3</td><td>10.00</td><td>1</td></tr>",
                            "<tr><td>4</td><td>45.00</td><td>3</td></tr>",
                            "<tr><td>5</td><td>5.00</td><td>1</td></tr>",
                            "<tr><td>6</td><td>15.00</td><td>1</td></tr>",
                            "<tr><td>7</td><td>5.00</td><td>1</td></tr>",
                            "<tr><td>8</td><td>10.00</td><td>2</td></tr>",
                            "<tr><td>9</td><td>5.00</td><td>1</td></tr>",
                            "<tr><td>10</td><td>5.00</td><td>1</td></tr>",
                            "<tr><td>11</td><td>5.00</td><td>1</td></tr>",
                            "<tr><td>12</td><td>10.00</td><td>1</td></tr>",
                            "<tr><td>13</td><td>5.00</td><td>1</td></tr>",
                            "<tr><td>14</td><td>10.00</td><td>1</td></tr>",
                            "<tr><td>15</td><td>5.00</td><td>1</td></tr>",
                            "<tr><td>16</td><td>5.00</td><td>1</td></tr>",
                            "<tr><td>17</td><td>10.00</td><td>1</td></tr>",
                            "<tr><td>18</td><td>10.00</td><td>2</td></tr>",
                            "<tr><td>19</td><td>10.00</td><td>1</td></tr>",
                            "<tr><td>20</td><td>5.00</td><td>1</td></tr>",
                            "<tr><td>21</td><td>5.00</td><td>1</td></tr>",
                            "<tr><td>22</td><td>10.00</td><td>1</td></tr>",
                            "<tr><td>23</td><td>5.00</td><td>1</td></tr>",
                            "<tr><td>24</td><td>5.00</td><td>1</td></tr>",
                            "<tr><td>25</td><td>5.00</td><td>1</td></tr>",
                            "<tr><td>26</td><td>5.00</td><td>1</td></tr>",
                            "<tr><td>27</td><td>10.00</td><td>1</td></tr>",
                            "<tr><td>28</td><td>10.00</td><td>1</td></tr>",
                            "<tr><td>29</td><td>10.00</td><td>2</td></tr>",
                            "<tr><td>30</td><td>5.00</td><td>1</td></tr>",
                            "<tr><td>31</td><td>5.00</td><td>1</td></tr>",
                            "<tr><td>32</td><td>5.00</td><td>1</td></tr>",
                            "<tr><td>33</td><td>10.00</td><td>1</td></tr>",
                            "<tr><td>34</td><td>5.00</td><td>1</td></tr>",
                            "<tr><td>35</td><td>10.00</td><td>1</td></tr>",
                            "</table>"
                        ]
                    }
                }
            ],
            "execution_count": 13
        },
        {
            "cell_type": "markdown",
            "source": [
                "Just like we can alias columns that are created using aggregate operations, we can alias columns that use mathmatical operations. If we wanted to create a query to show the total amount that a customer paid for an item before tax and shipping, we would need to subtract the discount amount from the item price, and then multiply the result time the quantity. In the below query we create a custom column named subtotal to handle this operation."
            ],
            "metadata": {
                "language": "sql",
                "azdata_cell_guid": "803dd1de-ac24-4707-941a-b24e2b119cb5"
            },
            "attachments": {}
        },
        {
            "cell_type": "code",
            "source": [
                "SELECT oi.item_id, oi.item_price, oi.discount_amount, oi.quantity, (oi.item_price - oi.discount_amount) * oi.quantity AS subtotal\n",
                "FROM gs_order_items as oi"
            ],
            "metadata": {
                "azdata_cell_guid": "4c2f6efd-c31e-4d3f-89f0-2d9ce2f24dc6",
                "language": "sql"
            },
            "outputs": [
                {
                    "output_type": "display_data",
                    "data": {
                        "text/html": "(47 rows affected)"
                    },
                    "metadata": {}
                },
                {
                    "output_type": "display_data",
                    "data": {
                        "text/html": "Total execution time: 00:00:00.049"
                    },
                    "metadata": {}
                },
                {
                    "output_type": "execute_result",
                    "metadata": {},
                    "execution_count": 17,
                    "data": {
                        "application/vnd.dataresource+json": {
                            "schema": {
                                "fields": [
                                    {
                                        "name": "item_id"
                                    },
                                    {
                                        "name": "item_price"
                                    },
                                    {
                                        "name": "discount_amount"
                                    },
                                    {
                                        "name": "quantity"
                                    },
                                    {
                                        "name": "subtotal"
                                    }
                                ]
                            },
                            "data": [
                                {
                                    "item_id": "1",
                                    "item_price": "1199.00",
                                    "discount_amount": "359.70",
                                    "quantity": "1",
                                    "subtotal": "839.30"
                                },
                                {
                                    "item_id": "2",
                                    "item_price": "489.99",
                                    "discount_amount": "186.20",
                                    "quantity": "1",
                                    "subtotal": "303.79"
                                },
                                {
                                    "item_id": "3",
                                    "item_price": "2517.00",
                                    "discount_amount": "1308.84",
                                    "quantity": "1",
                                    "subtotal": "1208.16"
                                },
                                {
                                    "item_id": "4",
                                    "item_price": "415.00",
                                    "discount_amount": "161.85",
                                    "quantity": "1",
                                    "subtotal": "253.15"
                                },
                                {
                                    "item_id": "5",
                                    "item_price": "1199.00",
                                    "discount_amount": "359.70",
                                    "quantity": "2",
                                    "subtotal": "1678.60"
                                },
                                {
                                    "item_id": "6",
                                    "item_price": "299.00",
                                    "discount_amount": "0.00",
                                    "quantity": "1",
                                    "subtotal": "299.00"
                                },
                                {
                                    "item_id": "7",
                                    "item_price": "299.00",
                                    "discount_amount": "0.00",
                                    "quantity": "1",
                                    "subtotal": "299.00"
                                },
                                {
                                    "item_id": "8",
                                    "item_price": "699.99",
                                    "discount_amount": "210.00",
                                    "quantity": "1",
                                    "subtotal": "489.99"
                                },
                                {
                                    "item_id": "9",
                                    "item_price": "799.99",
                                    "discount_amount": "240.00",
                                    "quantity": "1",
                                    "subtotal": "559.99"
                                },
                                {
                                    "item_id": "10",
                                    "item_price": "699.99",
                                    "discount_amount": "210.00",
                                    "quantity": "1",
                                    "subtotal": "489.99"
                                },
                                {
                                    "item_id": "11",
                                    "item_price": "799.99",
                                    "discount_amount": "120.00",
                                    "quantity": "1",
                                    "subtotal": "679.99"
                                },
                                {
                                    "item_id": "12",
                                    "item_price": "699.00",
                                    "discount_amount": "209.70",
                                    "quantity": "3",
                                    "subtotal": "1467.90"
                                },
                                {
                                    "item_id": "13",
                                    "item_price": "499.99",
                                    "discount_amount": "125.00",
                                    "quantity": "1",
                                    "subtotal": "374.99"
                                },
                                {
                                    "item_id": "14",
                                    "item_price": "699.00",
                                    "discount_amount": "209.70",
                                    "quantity": "1",
                                    "subtotal": "489.30"
                                },
                                {
                                    "item_id": "15",
                                    "item_price": "2517.00",
                                    "discount_amount": "1308.84",
                                    "quantity": "1",
                                    "subtotal": "1208.16"
                                },
                                {
                                    "item_id": "16",
                                    "item_price": "799.99",
                                    "discount_amount": "120.00",
                                    "quantity": "1",
                                    "subtotal": "679.99"
                                },
                                {
                                    "item_id": "17",
                                    "item_price": "1199.00",
                                    "discount_amount": "359.70",
                                    "quantity": "2",
                                    "subtotal": "1678.60"
                                },
                                {
                                    "item_id": "18",
                                    "item_price": "799.99",
                                    "discount_amount": "240.00",
                                    "quantity": "1",
                                    "subtotal": "559.99"
                                },
                                {
                                    "item_id": "19",
                                    "item_price": "699.00",
                                    "discount_amount": "209.70",
                                    "quantity": "1",
                                    "subtotal": "489.30"
                                },
                                {
                                    "item_id": "20",
                                    "item_price": "415.00",
                                    "discount_amount": "161.85",
                                    "quantity": "1",
                                    "subtotal": "253.15"
                                },
                                {
                                    "item_id": "21",
                                    "item_price": "699.00",
                                    "discount_amount": "209.70",
                                    "quantity": "1",
                                    "subtotal": "489.30"
                                },
                                {
                                    "item_id": "22",
                                    "item_price": "699.00",
                                    "discount_amount": "209.70",
                                    "quantity": "1",
                                    "subtotal": "489.30"
                                },
                                {
                                    "item_id": "23",
                                    "item_price": "1199.00",
                                    "discount_amount": "359.70",
                                    "quantity": "2",
                                    "subtotal": "1678.60"
                                },
                                {
                                    "item_id": "24",
                                    "item_price": "799.99",
                                    "discount_amount": "120.00",
                                    "quantity": "1",
                                    "subtotal": "679.99"
                                },
                                {
                                    "item_id": "25",
                                    "item_price": "799.99",
                                    "discount_amount": "240.00",
                                    "quantity": "1",
                                    "subtotal": "559.99"
                                },
                                {
                                    "item_id": "26",
                                    "item_price": "2517.00",
                                    "discount_amount": "1308.84",
                                    "quantity": "1",
                                    "subtotal": "1208.16"
                                },
                                {
                                    "item_id": "27",
                                    "item_price": "699.00",
                                    "discount_amount": "209.70",
                                    "quantity": "1",
                                    "subtotal": "489.30"
                                },
                                {
                                    "item_id": "28",
                                    "item_price": "699.00",
                                    "discount_amount": "209.70",
                                    "quantity": "1",
                                    "subtotal": "489.30"
                                },
                                {
                                    "item_id": "29",
                                    "item_price": "1199.00",
                                    "discount_amount": "359.70",
                                    "quantity": "2",
                                    "subtotal": "1678.60"
                                },
                                {
                                    "item_id": "30",
                                    "item_price": "699.00",
                                    "discount_amount": "209.70",
                                    "quantity": "1",
                                    "subtotal": "489.30"
                                },
                                {
                                    "item_id": "31",
                                    "item_price": "2517.00",
                                    "discount_amount": "1308.84",
                                    "quantity": "1",
                                    "subtotal": "1208.16"
                                },
                                {
                                    "item_id": "32",
                                    "item_price": "699.99",
                                    "discount_amount": "210.00",
                                    "quantity": "1",
                                    "subtotal": "489.99"
                                },
                                {
                                    "item_id": "33",
                                    "item_price": "799.99",
                                    "discount_amount": "240.00",
                                    "quantity": "5",
                                    "subtotal": "2799.95"
                                },
                                {
                                    "item_id": "34",
                                    "item_price": "499.99",
                                    "discount_amount": "125.00",
                                    "quantity": "1",
                                    "subtotal": "374.99"
                                },
                                {
                                    "item_id": "35",
                                    "item_price": "2517.00",
                                    "discount_amount": "1308.84",
                                    "quantity": "1",
                                    "subtotal": "1208.16"
                                },
                                {
                                    "item_id": "36",
                                    "item_price": "699.00",
                                    "discount_amount": "209.70",
                                    "quantity": "1",
                                    "subtotal": "489.30"
                                },
                                {
                                    "item_id": "37",
                                    "item_price": "2517.00",
                                    "discount_amount": "1308.84",
                                    "quantity": "1",
                                    "subtotal": "1208.16"
                                },
                                {
                                    "item_id": "38",
                                    "item_price": "299.00",
                                    "discount_amount": "0.00",
                                    "quantity": "2",
                                    "subtotal": "598.00"
                                },
                                {
                                    "item_id": "39",
                                    "item_price": "1199.00",
                                    "discount_amount": "359.70",
                                    "quantity": "1",
                                    "subtotal": "839.30"
                                },
                                {
                                    "item_id": "40",
                                    "item_price": "799.99",
                                    "discount_amount": "240.00",
                                    "quantity": "1",
                                    "subtotal": "559.99"
                                },
                                {
                                    "item_id": "41",
                                    "item_price": "489.99",
                                    "discount_amount": "186.20",
                                    "quantity": "1",
                                    "subtotal": "303.79"
                                },
                                {
                                    "item_id": "42",
                                    "item_price": "2517.00",
                                    "discount_amount": "1308.84",
                                    "quantity": "1",
                                    "subtotal": "1208.16"
                                },
                                {
                                    "item_id": "43",
                                    "item_price": "1199.00",
                                    "discount_amount": "359.70",
                                    "quantity": "2",
                                    "subtotal": "1678.60"
                                },
                                {
                                    "item_id": "44",
                                    "item_price": "699.00",
                                    "discount_amount": "209.70",
                                    "quantity": "1",
                                    "subtotal": "489.30"
                                },
                                {
                                    "item_id": "45",
                                    "item_price": "699.00",
                                    "discount_amount": "209.70",
                                    "quantity": "1",
                                    "subtotal": "489.30"
                                },
                                {
                                    "item_id": "46",
                                    "item_price": "489.99",
                                    "discount_amount": "186.20",
                                    "quantity": "1",
                                    "subtotal": "303.79"
                                },
                                {
                                    "item_id": "47",
                                    "item_price": "699.00",
                                    "discount_amount": "209.70",
                                    "quantity": "1",
                                    "subtotal": "489.30"
                                }
                            ]
                        },
                        "text/html": [
                            "<table>",
                            "<tr><th>item_id</th><th>item_price</th><th>discount_amount</th><th>quantity</th><th>subtotal</th></tr>",
                            "<tr><td>1</td><td>1199.00</td><td>359.70</td><td>1</td><td>839.30</td></tr>",
                            "<tr><td>2</td><td>489.99</td><td>186.20</td><td>1</td><td>303.79</td></tr>",
                            "<tr><td>3</td><td>2517.00</td><td>1308.84</td><td>1</td><td>1208.16</td></tr>",
                            "<tr><td>4</td><td>415.00</td><td>161.85</td><td>1</td><td>253.15</td></tr>",
                            "<tr><td>5</td><td>1199.00</td><td>359.70</td><td>2</td><td>1678.60</td></tr>",
                            "<tr><td>6</td><td>299.00</td><td>0.00</td><td>1</td><td>299.00</td></tr>",
                            "<tr><td>7</td><td>299.00</td><td>0.00</td><td>1</td><td>299.00</td></tr>",
                            "<tr><td>8</td><td>699.99</td><td>210.00</td><td>1</td><td>489.99</td></tr>",
                            "<tr><td>9</td><td>799.99</td><td>240.00</td><td>1</td><td>559.99</td></tr>",
                            "<tr><td>10</td><td>699.99</td><td>210.00</td><td>1</td><td>489.99</td></tr>",
                            "<tr><td>11</td><td>799.99</td><td>120.00</td><td>1</td><td>679.99</td></tr>",
                            "<tr><td>12</td><td>699.00</td><td>209.70</td><td>3</td><td>1467.90</td></tr>",
                            "<tr><td>13</td><td>499.99</td><td>125.00</td><td>1</td><td>374.99</td></tr>",
                            "<tr><td>14</td><td>699.00</td><td>209.70</td><td>1</td><td>489.30</td></tr>",
                            "<tr><td>15</td><td>2517.00</td><td>1308.84</td><td>1</td><td>1208.16</td></tr>",
                            "<tr><td>16</td><td>799.99</td><td>120.00</td><td>1</td><td>679.99</td></tr>",
                            "<tr><td>17</td><td>1199.00</td><td>359.70</td><td>2</td><td>1678.60</td></tr>",
                            "<tr><td>18</td><td>799.99</td><td>240.00</td><td>1</td><td>559.99</td></tr>",
                            "<tr><td>19</td><td>699.00</td><td>209.70</td><td>1</td><td>489.30</td></tr>",
                            "<tr><td>20</td><td>415.00</td><td>161.85</td><td>1</td><td>253.15</td></tr>",
                            "<tr><td>21</td><td>699.00</td><td>209.70</td><td>1</td><td>489.30</td></tr>",
                            "<tr><td>22</td><td>699.00</td><td>209.70</td><td>1</td><td>489.30</td></tr>",
                            "<tr><td>23</td><td>1199.00</td><td>359.70</td><td>2</td><td>1678.60</td></tr>",
                            "<tr><td>24</td><td>799.99</td><td>120.00</td><td>1</td><td>679.99</td></tr>",
                            "<tr><td>25</td><td>799.99</td><td>240.00</td><td>1</td><td>559.99</td></tr>",
                            "<tr><td>26</td><td>2517.00</td><td>1308.84</td><td>1</td><td>1208.16</td></tr>",
                            "<tr><td>27</td><td>699.00</td><td>209.70</td><td>1</td><td>489.30</td></tr>",
                            "<tr><td>28</td><td>699.00</td><td>209.70</td><td>1</td><td>489.30</td></tr>",
                            "<tr><td>29</td><td>1199.00</td><td>359.70</td><td>2</td><td>1678.60</td></tr>",
                            "<tr><td>30</td><td>699.00</td><td>209.70</td><td>1</td><td>489.30</td></tr>",
                            "<tr><td>31</td><td>2517.00</td><td>1308.84</td><td>1</td><td>1208.16</td></tr>",
                            "<tr><td>32</td><td>699.99</td><td>210.00</td><td>1</td><td>489.99</td></tr>",
                            "<tr><td>33</td><td>799.99</td><td>240.00</td><td>5</td><td>2799.95</td></tr>",
                            "<tr><td>34</td><td>499.99</td><td>125.00</td><td>1</td><td>374.99</td></tr>",
                            "<tr><td>35</td><td>2517.00</td><td>1308.84</td><td>1</td><td>1208.16</td></tr>",
                            "<tr><td>36</td><td>699.00</td><td>209.70</td><td>1</td><td>489.30</td></tr>",
                            "<tr><td>37</td><td>2517.00</td><td>1308.84</td><td>1</td><td>1208.16</td></tr>",
                            "<tr><td>38</td><td>299.00</td><td>0.00</td><td>2</td><td>598.00</td></tr>",
                            "<tr><td>39</td><td>1199.00</td><td>359.70</td><td>1</td><td>839.30</td></tr>",
                            "<tr><td>40</td><td>799.99</td><td>240.00</td><td>1</td><td>559.99</td></tr>",
                            "<tr><td>41</td><td>489.99</td><td>186.20</td><td>1</td><td>303.79</td></tr>",
                            "<tr><td>42</td><td>2517.00</td><td>1308.84</td><td>1</td><td>1208.16</td></tr>",
                            "<tr><td>43</td><td>1199.00</td><td>359.70</td><td>2</td><td>1678.60</td></tr>",
                            "<tr><td>44</td><td>699.00</td><td>209.70</td><td>1</td><td>489.30</td></tr>",
                            "<tr><td>45</td><td>699.00</td><td>209.70</td><td>1</td><td>489.30</td></tr>",
                            "<tr><td>46</td><td>489.99</td><td>186.20</td><td>1</td><td>303.79</td></tr>",
                            "<tr><td>47</td><td>699.00</td><td>209.70</td><td>1</td><td>489.30</td></tr>",
                            "</table>"
                        ]
                    }
                }
            ],
            "execution_count": 17
        },
        {
            "cell_type": "markdown",
            "source": [
                "In the above cell we added an operation to our SELECT clause so that we could include a calculated column in our output. We started by putting the difference of item price and discount amount in parethesis to force that operation to be executed first, after that we multiply the result by quantity and alias the final output as subtotal. Now we can easily see the price of an order before taxes and shipping. While it was not necessary to return the columns used in our operation in our final output, I went ahead and included them so that you could check the math and see how the query is working.\n",
                "\n",
                "<span style=\"font-family: -apple-system, BlinkMacSystemFont, sans-serif; color: var(--vscode-foreground);\">Now that you have some experience with custom columns, let's apply this same logic to our aggregate query we were working on before. When we left off we had the sum of shipping charges as well as the number of orders for each customer. Let's add a custom column that shows the amount of shipping per order for each customer.&nbsp;</span>"
            ],
            "metadata": {
                "language": "",
                "azdata_cell_guid": "fc12b78b-f143-4a31-a489-87c5019c2dbe"
            },
            "attachments": {}
        },
        {
            "cell_type": "code",
            "source": [
                "--While it is not necessary to put each column on it's own line, this particular example is easier to read if we do so.\n",
                "SELECT o.customer_id,\n",
                "SUM(o.ship_amount) AS total_ship_amount,\n",
                "COUNT(*) AS total_orders,\n",
                "SUM(o.ship_amount) / COUNT(*) AS ship_amount_per_order\n",
                "FROM gs_orders as o\n",
                "GROUP BY o.customer_id"
            ],
            "metadata": {
                "azdata_cell_guid": "dd095eee-8877-43aa-897a-079458ed2c5f",
                "language": "sql"
            },
            "outputs": [
                {
                    "output_type": "display_data",
                    "data": {
                        "text/html": "(35 rows affected)"
                    },
                    "metadata": {}
                },
                {
                    "output_type": "display_data",
                    "data": {
                        "text/html": "Total execution time: 00:00:00.042"
                    },
                    "metadata": {}
                },
                {
                    "output_type": "execute_result",
                    "metadata": {},
                    "execution_count": 16,
                    "data": {
                        "application/vnd.dataresource+json": {
                            "schema": {
                                "fields": [
                                    {
                                        "name": "customer_id"
                                    },
                                    {
                                        "name": "total_ship_amount"
                                    },
                                    {
                                        "name": "total_orders"
                                    },
                                    {
                                        "name": "ship_amount_per_order"
                                    }
                                ]
                            },
                            "data": [
                                {
                                    "customer_id": "1",
                                    "total_ship_amount": "15.00",
                                    "total_orders": "2",
                                    "ship_amount_per_order": "7.50"
                                },
                                {
                                    "customer_id": "2",
                                    "total_ship_amount": "5.00",
                                    "total_orders": "1",
                                    "ship_amount_per_order": "5.00"
                                },
                                {
                                    "customer_id": "3",
                                    "total_ship_amount": "10.00",
                                    "total_orders": "1",
                                    "ship_amount_per_order": "10.00"
                                },
                                {
                                    "customer_id": "4",
                                    "total_ship_amount": "45.00",
                                    "total_orders": "3",
                                    "ship_amount_per_order": "15.00"
                                },
                                {
                                    "customer_id": "5",
                                    "total_ship_amount": "5.00",
                                    "total_orders": "1",
                                    "ship_amount_per_order": "5.00"
                                },
                                {
                                    "customer_id": "6",
                                    "total_ship_amount": "15.00",
                                    "total_orders": "1",
                                    "ship_amount_per_order": "15.00"
                                },
                                {
                                    "customer_id": "7",
                                    "total_ship_amount": "5.00",
                                    "total_orders": "1",
                                    "ship_amount_per_order": "5.00"
                                },
                                {
                                    "customer_id": "8",
                                    "total_ship_amount": "10.00",
                                    "total_orders": "2",
                                    "ship_amount_per_order": "5.00"
                                },
                                {
                                    "customer_id": "9",
                                    "total_ship_amount": "5.00",
                                    "total_orders": "1",
                                    "ship_amount_per_order": "5.00"
                                },
                                {
                                    "customer_id": "10",
                                    "total_ship_amount": "5.00",
                                    "total_orders": "1",
                                    "ship_amount_per_order": "5.00"
                                },
                                {
                                    "customer_id": "11",
                                    "total_ship_amount": "5.00",
                                    "total_orders": "1",
                                    "ship_amount_per_order": "5.00"
                                },
                                {
                                    "customer_id": "12",
                                    "total_ship_amount": "10.00",
                                    "total_orders": "1",
                                    "ship_amount_per_order": "10.00"
                                },
                                {
                                    "customer_id": "13",
                                    "total_ship_amount": "5.00",
                                    "total_orders": "1",
                                    "ship_amount_per_order": "5.00"
                                },
                                {
                                    "customer_id": "14",
                                    "total_ship_amount": "10.00",
                                    "total_orders": "1",
                                    "ship_amount_per_order": "10.00"
                                },
                                {
                                    "customer_id": "15",
                                    "total_ship_amount": "5.00",
                                    "total_orders": "1",
                                    "ship_amount_per_order": "5.00"
                                },
                                {
                                    "customer_id": "16",
                                    "total_ship_amount": "5.00",
                                    "total_orders": "1",
                                    "ship_amount_per_order": "5.00"
                                },
                                {
                                    "customer_id": "17",
                                    "total_ship_amount": "10.00",
                                    "total_orders": "1",
                                    "ship_amount_per_order": "10.00"
                                },
                                {
                                    "customer_id": "18",
                                    "total_ship_amount": "10.00",
                                    "total_orders": "2",
                                    "ship_amount_per_order": "5.00"
                                },
                                {
                                    "customer_id": "19",
                                    "total_ship_amount": "10.00",
                                    "total_orders": "1",
                                    "ship_amount_per_order": "10.00"
                                },
                                {
                                    "customer_id": "20",
                                    "total_ship_amount": "5.00",
                                    "total_orders": "1",
                                    "ship_amount_per_order": "5.00"
                                },
                                {
                                    "customer_id": "21",
                                    "total_ship_amount": "5.00",
                                    "total_orders": "1",
                                    "ship_amount_per_order": "5.00"
                                },
                                {
                                    "customer_id": "22",
                                    "total_ship_amount": "10.00",
                                    "total_orders": "1",
                                    "ship_amount_per_order": "10.00"
                                },
                                {
                                    "customer_id": "23",
                                    "total_ship_amount": "5.00",
                                    "total_orders": "1",
                                    "ship_amount_per_order": "5.00"
                                },
                                {
                                    "customer_id": "24",
                                    "total_ship_amount": "5.00",
                                    "total_orders": "1",
                                    "ship_amount_per_order": "5.00"
                                },
                                {
                                    "customer_id": "25",
                                    "total_ship_amount": "5.00",
                                    "total_orders": "1",
                                    "ship_amount_per_order": "5.00"
                                },
                                {
                                    "customer_id": "26",
                                    "total_ship_amount": "5.00",
                                    "total_orders": "1",
                                    "ship_amount_per_order": "5.00"
                                },
                                {
                                    "customer_id": "27",
                                    "total_ship_amount": "10.00",
                                    "total_orders": "1",
                                    "ship_amount_per_order": "10.00"
                                },
                                {
                                    "customer_id": "28",
                                    "total_ship_amount": "10.00",
                                    "total_orders": "1",
                                    "ship_amount_per_order": "10.00"
                                },
                                {
                                    "customer_id": "29",
                                    "total_ship_amount": "10.00",
                                    "total_orders": "2",
                                    "ship_amount_per_order": "5.00"
                                },
                                {
                                    "customer_id": "30",
                                    "total_ship_amount": "5.00",
                                    "total_orders": "1",
                                    "ship_amount_per_order": "5.00"
                                },
                                {
                                    "customer_id": "31",
                                    "total_ship_amount": "5.00",
                                    "total_orders": "1",
                                    "ship_amount_per_order": "5.00"
                                },
                                {
                                    "customer_id": "32",
                                    "total_ship_amount": "5.00",
                                    "total_orders": "1",
                                    "ship_amount_per_order": "5.00"
                                },
                                {
                                    "customer_id": "33",
                                    "total_ship_amount": "10.00",
                                    "total_orders": "1",
                                    "ship_amount_per_order": "10.00"
                                },
                                {
                                    "customer_id": "34",
                                    "total_ship_amount": "5.00",
                                    "total_orders": "1",
                                    "ship_amount_per_order": "5.00"
                                },
                                {
                                    "customer_id": "35",
                                    "total_ship_amount": "10.00",
                                    "total_orders": "1",
                                    "ship_amount_per_order": "10.00"
                                }
                            ]
                        },
                        "text/html": [
                            "<table>",
                            "<tr><th>customer_id</th><th>total_ship_amount</th><th>total_orders</th><th>ship_amount_per_order</th></tr>",
                            "<tr><td>1</td><td>15.00</td><td>2</td><td>7.50</td></tr>",
                            "<tr><td>2</td><td>5.00</td><td>1</td><td>5.00</td></tr>",
                            "<tr><td>3</td><td>10.00</td><td>1</td><td>10.00</td></tr>",
                            "<tr><td>4</td><td>45.00</td><td>3</td><td>15.00</td></tr>",
                            "<tr><td>5</td><td>5.00</td><td>1</td><td>5.00</td></tr>",
                            "<tr><td>6</td><td>15.00</td><td>1</td><td>15.00</td></tr>",
                            "<tr><td>7</td><td>5.00</td><td>1</td><td>5.00</td></tr>",
                            "<tr><td>8</td><td>10.00</td><td>2</td><td>5.00</td></tr>",
                            "<tr><td>9</td><td>5.00</td><td>1</td><td>5.00</td></tr>",
                            "<tr><td>10</td><td>5.00</td><td>1</td><td>5.00</td></tr>",
                            "<tr><td>11</td><td>5.00</td><td>1</td><td>5.00</td></tr>",
                            "<tr><td>12</td><td>10.00</td><td>1</td><td>10.00</td></tr>",
                            "<tr><td>13</td><td>5.00</td><td>1</td><td>5.00</td></tr>",
                            "<tr><td>14</td><td>10.00</td><td>1</td><td>10.00</td></tr>",
                            "<tr><td>15</td><td>5.00</td><td>1</td><td>5.00</td></tr>",
                            "<tr><td>16</td><td>5.00</td><td>1</td><td>5.00</td></tr>",
                            "<tr><td>17</td><td>10.00</td><td>1</td><td>10.00</td></tr>",
                            "<tr><td>18</td><td>10.00</td><td>2</td><td>5.00</td></tr>",
                            "<tr><td>19</td><td>10.00</td><td>1</td><td>10.00</td></tr>",
                            "<tr><td>20</td><td>5.00</td><td>1</td><td>5.00</td></tr>",
                            "<tr><td>21</td><td>5.00</td><td>1</td><td>5.00</td></tr>",
                            "<tr><td>22</td><td>10.00</td><td>1</td><td>10.00</td></tr>",
                            "<tr><td>23</td><td>5.00</td><td>1</td><td>5.00</td></tr>",
                            "<tr><td>24</td><td>5.00</td><td>1</td><td>5.00</td></tr>",
                            "<tr><td>25</td><td>5.00</td><td>1</td><td>5.00</td></tr>",
                            "<tr><td>26</td><td>5.00</td><td>1</td><td>5.00</td></tr>",
                            "<tr><td>27</td><td>10.00</td><td>1</td><td>10.00</td></tr>",
                            "<tr><td>28</td><td>10.00</td><td>1</td><td>10.00</td></tr>",
                            "<tr><td>29</td><td>10.00</td><td>2</td><td>5.00</td></tr>",
                            "<tr><td>30</td><td>5.00</td><td>1</td><td>5.00</td></tr>",
                            "<tr><td>31</td><td>5.00</td><td>1</td><td>5.00</td></tr>",
                            "<tr><td>32</td><td>5.00</td><td>1</td><td>5.00</td></tr>",
                            "<tr><td>33</td><td>10.00</td><td>1</td><td>10.00</td></tr>",
                            "<tr><td>34</td><td>5.00</td><td>1</td><td>5.00</td></tr>",
                            "<tr><td>35</td><td>10.00</td><td>1</td><td>10.00</td></tr>",
                            "</table>"
                        ]
                    }
                }
            ],
            "execution_count": 16
        },
        {
            "cell_type": "markdown",
            "source": [
                "Note in the above example that we divided the aggregate values by each other. We are able to do this because in the SQL order of operations, aggregation is completed during the GROUP BY operations, so the data has been aggregated and can be operated on further by the time the compiler executes SELECT operations.\n",
                "\n",
                "  \n",
                "\n",
                "It is also for this reason that we cannot use the aggregate column aliases in our custom columns. Those aliases are assigned at the end of the order of operations during the SELECT phase, so they do not exists during the GROUP BY phase when we are aggregating. This means that we cannot write custom aggregation columns like _total\\_ship\\_amount / total\\_orders AS ship\\_amount\\_per\\_order_."
            ],
            "metadata": {
                "language": "sql",
                "azdata_cell_guid": "83c3deb1-f936-458c-be1d-e06da421c0c7"
            },
            "attachments": {}
        },
        {
            "cell_type": "markdown",
            "source": [
                "## **Exercises**\n",
                "\n",
                "If you have not already, I would strongly recommend having access to the ERD linked in Github for these exercises"
            ],
            "metadata": {
                "language": "sql",
                "azdata_cell_guid": "d2591862-67ce-4a74-8432-218a821c7099"
            },
            "attachments": {}
        },
        {
            "cell_type": "markdown",
            "source": [
                "1\\. Using the below code cell, return the amount of orders that each customer has placed. The query should include the first name, last name, and total\\_orders as a customer column."
            ],
            "metadata": {
                "language": "sql",
                "azdata_cell_guid": "db6166aa-4fb4-4b50-9bc8-5cc21407973b"
            },
            "attachments": {}
        },
        {
            "cell_type": "markdown",
            "source": [
                "**First 5 rows of correct solution**\n",
                "|first_name|last_name|total_orders|\n",
                "|---|---|---|\n",
                "|Cammy|Albares|1|\n",
                "|Minna|Amigon|1|\n",
                "|Christine|Brown|1|\n",
                "|James|Butt|1|\n",
                "|Kiley|Caldarera|1|"
            ],
            "metadata": {
                "language": "sql",
                "azdata_cell_guid": "d218ba08-0a24-4cd2-ae90-bc899a3c1801"
            },
            "attachments": {}
        },
        {
            "cell_type": "code",
            "source": [
                "--Insert your code below this line.\r\n",
                "SELECT c.first_name AS first_name, c.last_name AS last_name, COUNT(o.order_id) AS total_orders\r\n",
                "FROM gs_customers AS c\r\n",
                "JOIN gs_orders AS o ON c.customer_id = o.customer_id\r\n",
                "GROUP BY c.first_name, c.last_name;\r\n",
                "\r\n",
                "\r\n",
                ""
            ],
            "metadata": {
                "language": "sql",
                "azdata_cell_guid": "4dc49714-af7d-4ed3-9361-f7a392ffa098",
                "tags": []
            },
            "outputs": [
                {
                    "output_type": "display_data",
                    "data": {
                        "text/html": "(35 rows affected)"
                    },
                    "metadata": {}
                },
                {
                    "output_type": "display_data",
                    "data": {
                        "text/html": "Total execution time: 00:00:00.056"
                    },
                    "metadata": {}
                },
                {
                    "output_type": "execute_result",
                    "metadata": {},
                    "execution_count": 18,
                    "data": {
                        "application/vnd.dataresource+json": {
                            "schema": {
                                "fields": [
                                    {
                                        "name": "first_name"
                                    },
                                    {
                                        "name": "last_name"
                                    },
                                    {
                                        "name": "total_orders"
                                    }
                                ]
                            },
                            "data": [
                                {
                                    "first_name": "Cammy",
                                    "last_name": "Albares",
                                    "total_orders": "1"
                                },
                                {
                                    "first_name": "Minna",
                                    "last_name": "Amigon",
                                    "total_orders": "1"
                                },
                                {
                                    "first_name": "Christine",
                                    "last_name": "Brown",
                                    "total_orders": "1"
                                },
                                {
                                    "first_name": "James",
                                    "last_name": "Butt",
                                    "total_orders": "1"
                                },
                                {
                                    "first_name": "Kiley",
                                    "last_name": "Caldarera",
                                    "total_orders": "1"
                                },
                                {
                                    "first_name": "Chanel",
                                    "last_name": "Caudy",
                                    "total_orders": "1"
                                },
                                {
                                    "first_name": "Josephine",
                                    "last_name": "Darakjy",
                                    "total_orders": "1"
                                },
                                {
                                    "first_name": "Leota",
                                    "last_name": "Dilliard",
                                    "total_orders": "1"
                                },
                                {
                                    "first_name": "Heather",
                                    "last_name": "Esway",
                                    "total_orders": "2"
                                },
                                {
                                    "first_name": "Fletcher",
                                    "last_name": "Flosi",
                                    "total_orders": "1"
                                },
                                {
                                    "first_name": "Donette",
                                    "last_name": "Foller",
                                    "total_orders": "1"
                                },
                                {
                                    "first_name": "Meaghan",
                                    "last_name": "Garufi",
                                    "total_orders": "1"
                                },
                                {
                                    "first_name": "David",
                                    "last_name": "Goldstein",
                                    "total_orders": "3"
                                },
                                {
                                    "first_name": "Gary",
                                    "last_name": "Hernandez",
                                    "total_orders": "1"
                                },
                                {
                                    "first_name": "Veronika",
                                    "last_name": "Inouye",
                                    "total_orders": "1"
                                },
                                {
                                    "first_name": "Allene",
                                    "last_name": "Iturbide",
                                    "total_orders": "1"
                                },
                                {
                                    "first_name": "Willard",
                                    "last_name": "Kolmetz",
                                    "total_orders": "1"
                                },
                                {
                                    "first_name": "Abel",
                                    "last_name": "Maclead",
                                    "total_orders": "1"
                                },
                                {
                                    "first_name": "Kris",
                                    "last_name": "Marrier",
                                    "total_orders": "2"
                                },
                                {
                                    "first_name": "Simona",
                                    "last_name": "Morasca",
                                    "total_orders": "1"
                                },
                                {
                                    "first_name": "Bette",
                                    "last_name": "Nicka",
                                    "total_orders": "2"
                                },
                                {
                                    "first_name": "Lenna",
                                    "last_name": "Paprocki",
                                    "total_orders": "1"
                                },
                                {
                                    "first_name": "Mattie",
                                    "last_name": "Poquette",
                                    "total_orders": "1"
                                },
                                {
                                    "first_name": "Gladys",
                                    "last_name": "Rim",
                                    "total_orders": "1"
                                },
                                {
                                    "first_name": "Maryann",
                                    "last_name": "Royster",
                                    "total_orders": "1"
                                },
                                {
                                    "first_name": "Graciela",
                                    "last_name": "Ruta",
                                    "total_orders": "1"
                                },
                                {
                                    "first_name": "Allan",
                                    "last_name": "Sherwood",
                                    "total_orders": "2"
                                },
                                {
                                    "first_name": "Alisha",
                                    "last_name": "Slusarski",
                                    "total_orders": "1"
                                },
                                {
                                    "first_name": "Mitsue",
                                    "last_name": "Tollner",
                                    "total_orders": "1"
                                },
                                {
                                    "first_name": "Erin",
                                    "last_name": "Valentino",
                                    "total_orders": "1"
                                },
                                {
                                    "first_name": "Art",
                                    "last_name": "Venere",
                                    "total_orders": "1"
                                },
                                {
                                    "first_name": "Yuki",
                                    "last_name": "Whobrey",
                                    "total_orders": "1"
                                },
                                {
                                    "first_name": "Sage",
                                    "last_name": "Wieser",
                                    "total_orders": "1"
                                },
                                {
                                    "first_name": "Frank Lee",
                                    "last_name": "Wilson",
                                    "total_orders": "1"
                                },
                                {
                                    "first_name": "Barry",
                                    "last_name": "Zimmer",
                                    "total_orders": "1"
                                }
                            ]
                        },
                        "text/html": [
                            "<table>",
                            "<tr><th>first_name</th><th>last_name</th><th>total_orders</th></tr>",
                            "<tr><td>Cammy</td><td>Albares</td><td>1</td></tr>",
                            "<tr><td>Minna</td><td>Amigon</td><td>1</td></tr>",
                            "<tr><td>Christine</td><td>Brown</td><td>1</td></tr>",
                            "<tr><td>James</td><td>Butt</td><td>1</td></tr>",
                            "<tr><td>Kiley</td><td>Caldarera</td><td>1</td></tr>",
                            "<tr><td>Chanel</td><td>Caudy</td><td>1</td></tr>",
                            "<tr><td>Josephine</td><td>Darakjy</td><td>1</td></tr>",
                            "<tr><td>Leota</td><td>Dilliard</td><td>1</td></tr>",
                            "<tr><td>Heather</td><td>Esway</td><td>2</td></tr>",
                            "<tr><td>Fletcher</td><td>Flosi</td><td>1</td></tr>",
                            "<tr><td>Donette</td><td>Foller</td><td>1</td></tr>",
                            "<tr><td>Meaghan</td><td>Garufi</td><td>1</td></tr>",
                            "<tr><td>David</td><td>Goldstein</td><td>3</td></tr>",
                            "<tr><td>Gary</td><td>Hernandez</td><td>1</td></tr>",
                            "<tr><td>Veronika</td><td>Inouye</td><td>1</td></tr>",
                            "<tr><td>Allene</td><td>Iturbide</td><td>1</td></tr>",
                            "<tr><td>Willard</td><td>Kolmetz</td><td>1</td></tr>",
                            "<tr><td>Abel</td><td>Maclead</td><td>1</td></tr>",
                            "<tr><td>Kris</td><td>Marrier</td><td>2</td></tr>",
                            "<tr><td>Simona</td><td>Morasca</td><td>1</td></tr>",
                            "<tr><td>Bette</td><td>Nicka</td><td>2</td></tr>",
                            "<tr><td>Lenna</td><td>Paprocki</td><td>1</td></tr>",
                            "<tr><td>Mattie</td><td>Poquette</td><td>1</td></tr>",
                            "<tr><td>Gladys</td><td>Rim</td><td>1</td></tr>",
                            "<tr><td>Maryann</td><td>Royster</td><td>1</td></tr>",
                            "<tr><td>Graciela</td><td>Ruta</td><td>1</td></tr>",
                            "<tr><td>Allan</td><td>Sherwood</td><td>2</td></tr>",
                            "<tr><td>Alisha</td><td>Slusarski</td><td>1</td></tr>",
                            "<tr><td>Mitsue</td><td>Tollner</td><td>1</td></tr>",
                            "<tr><td>Erin</td><td>Valentino</td><td>1</td></tr>",
                            "<tr><td>Art</td><td>Venere</td><td>1</td></tr>",
                            "<tr><td>Yuki</td><td>Whobrey</td><td>1</td></tr>",
                            "<tr><td>Sage</td><td>Wieser</td><td>1</td></tr>",
                            "<tr><td>Frank Lee</td><td>Wilson</td><td>1</td></tr>",
                            "<tr><td>Barry</td><td>Zimmer</td><td>1</td></tr>",
                            "</table>"
                        ]
                    }
                }
            ],
            "execution_count": 18
        },
        {
            "cell_type": "markdown",
            "source": [
                "2\\. Using the below code cell, return only customers that have placed more than 1 order. Only return the first name, last name, and email address fields."
            ],
            "metadata": {
                "language": "sql",
                "azdata_cell_guid": "a5c9a095-8ee1-4049-b816-8d3896f046ad"
            },
            "attachments": {}
        },
        {
            "cell_type": "markdown",
            "source": [
                "**First 5 rows of correct solution**\n",
                "|first_name|last_name|email_address|\n",
                "|---|---|---|\n",
                "|Allan|Sherwood|allan.sherwood@yahoo.com|\n",
                "|Bette|Nicka|bette_nicka@cox.net|\n",
                "|David|Goldstein|david.goldstein@hotmail.com|\n",
                "|Heather|Esway|heatheresway@mac.com|\n",
                "|Kris|Marrier|kris@gmail.com|"
            ],
            "metadata": {
                "language": "sql",
                "azdata_cell_guid": "e3023180-670a-4e3a-943d-3a04355fa6fa"
            },
            "attachments": {}
        },
        {
            "cell_type": "code",
            "source": [
                "--Insert your code below this line.\r\n",
                "SELECT c.first_name AS first_name, c.last_name AS last_name, c.email_address AS email_address\r\n",
                "FROM gs_customers AS c\r\n",
                "JOIN gs_orders AS o ON c.customer_id = o.customer_id\r\n",
                "GROUP BY c.first_name, c.last_name, c.email_address\r\n",
                "HAVING COUNT(o.order_id) > 1;"
            ],
            "metadata": {
                "language": "sql",
                "azdata_cell_guid": "1c6c9167-8947-4d5d-a399-096cf43a7185"
            },
            "outputs": [
                {
                    "output_type": "display_data",
                    "data": {
                        "text/html": "(5 rows affected)"
                    },
                    "metadata": {}
                },
                {
                    "output_type": "display_data",
                    "data": {
                        "text/html": "Total execution time: 00:00:00.047"
                    },
                    "metadata": {}
                },
                {
                    "output_type": "execute_result",
                    "metadata": {},
                    "execution_count": 21,
                    "data": {
                        "application/vnd.dataresource+json": {
                            "schema": {
                                "fields": [
                                    {
                                        "name": "first_name"
                                    },
                                    {
                                        "name": "last_name"
                                    },
                                    {
                                        "name": "email_address"
                                    }
                                ]
                            },
                            "data": [
                                {
                                    "first_name": "Allan",
                                    "last_name": "Sherwood",
                                    "email_address": "allan.sherwood@yahoo.com"
                                },
                                {
                                    "first_name": "Bette",
                                    "last_name": "Nicka",
                                    "email_address": "bette_nicka@cox.net"
                                },
                                {
                                    "first_name": "David",
                                    "last_name": "Goldstein",
                                    "email_address": "david.goldstein@hotmail.com"
                                },
                                {
                                    "first_name": "Heather",
                                    "last_name": "Esway",
                                    "email_address": "heatheresway@mac.com"
                                },
                                {
                                    "first_name": "Kris",
                                    "last_name": "Marrier",
                                    "email_address": "kris@gmail.com"
                                }
                            ]
                        },
                        "text/html": [
                            "<table>",
                            "<tr><th>first_name</th><th>last_name</th><th>email_address</th></tr>",
                            "<tr><td>Allan</td><td>Sherwood</td><td>allan.sherwood@yahoo.com</td></tr>",
                            "<tr><td>Bette</td><td>Nicka</td><td>bette_nicka@cox.net</td></tr>",
                            "<tr><td>David</td><td>Goldstein</td><td>david.goldstein@hotmail.com</td></tr>",
                            "<tr><td>Heather</td><td>Esway</td><td>heatheresway@mac.com</td></tr>",
                            "<tr><td>Kris</td><td>Marrier</td><td>kris@gmail.com</td></tr>",
                            "</table>"
                        ]
                    }
                }
            ],
            "execution_count": 21
        },
        {
            "cell_type": "markdown",
            "source": [
                "3\\. Using the below code cell, return the total quantity of each product that has been ordered by all customers. Include two columns in your output: product name and total ordered."
            ],
            "metadata": {
                "language": "sql",
                "azdata_cell_guid": "525c4a78-4eb7-4a83-b0ff-8fd0fc580daf"
            },
            "attachments": {}
        },
        {
            "cell_type": "markdown",
            "source": [
                "**First 5 rows of correct solution**\n",
                "|product_name|total_ordered|\n",
                "|---|---|\n",
                "|Fender Precision|2|\n",
                "|Fender Stratocaster|7|\n",
                "|Gibson Les Paul|12|\n",
                "|Gibson SG|9|\n",
                "|Hofner Icon|3|"
            ],
            "metadata": {
                "language": "sql",
                "azdata_cell_guid": "66d3777f-4d74-455b-be1c-b7f3fe1424e6"
            },
            "attachments": {}
        },
        {
            "cell_type": "code",
            "source": [
                "--Insert your code below this line.\r\n",
                "SELECT p.product_name AS product_name, SUM(o.quantity) AS total_ordered\r\n",
                "FROM gs_products AS p\r\n",
                "JOIN gs_order_items AS o ON p.product_id = o.product_id\r\n",
                "GROUP BY p.product_name"
            ],
            "metadata": {
                "language": "sql",
                "azdata_cell_guid": "f0e5edb2-7e4d-42f9-825a-ff394ae9da10"
            },
            "outputs": [
                {
                    "output_type": "display_data",
                    "data": {
                        "text/html": "(10 rows affected)"
                    },
                    "metadata": {}
                },
                {
                    "output_type": "display_data",
                    "data": {
                        "text/html": "Total execution time: 00:00:00.052"
                    },
                    "metadata": {}
                },
                {
                    "output_type": "execute_result",
                    "metadata": {},
                    "execution_count": 22,
                    "data": {
                        "application/vnd.dataresource+json": {
                            "schema": {
                                "fields": [
                                    {
                                        "name": "product_name"
                                    },
                                    {
                                        "name": "total_ordered"
                                    }
                                ]
                            },
                            "data": [
                                {
                                    "product_name": "Fender Precision",
                                    "total_ordered": "2"
                                },
                                {
                                    "product_name": "Fender Stratocaster",
                                    "total_ordered": "7"
                                },
                                {
                                    "product_name": "Gibson Les Paul",
                                    "total_ordered": "12"
                                },
                                {
                                    "product_name": "Gibson SG",
                                    "total_ordered": "9"
                                },
                                {
                                    "product_name": "Hofner Icon",
                                    "total_ordered": "3"
                                },
                                {
                                    "product_name": "Ludwig 5-piece Drum Set with Cymbals",
                                    "total_ordered": "2"
                                },
                                {
                                    "product_name": "Rodriguez Caballero 11",
                                    "total_ordered": "14"
                                },
                                {
                                    "product_name": "Tama 5-Piece Drum Set with Cymbals",
                                    "total_ordered": "4"
                                },
                                {
                                    "product_name": "Washburn D10S",
                                    "total_ordered": "3"
                                },
                                {
                                    "product_name": "Yamaha FG700S",
                                    "total_ordered": "3"
                                }
                            ]
                        },
                        "text/html": [
                            "<table>",
                            "<tr><th>product_name</th><th>total_ordered</th></tr>",
                            "<tr><td>Fender Precision</td><td>2</td></tr>",
                            "<tr><td>Fender Stratocaster</td><td>7</td></tr>",
                            "<tr><td>Gibson Les Paul</td><td>12</td></tr>",
                            "<tr><td>Gibson SG</td><td>9</td></tr>",
                            "<tr><td>Hofner Icon</td><td>3</td></tr>",
                            "<tr><td>Ludwig 5-piece Drum Set with Cymbals</td><td>2</td></tr>",
                            "<tr><td>Rodriguez Caballero 11</td><td>14</td></tr>",
                            "<tr><td>Tama 5-Piece Drum Set with Cymbals</td><td>4</td></tr>",
                            "<tr><td>Washburn D10S</td><td>3</td></tr>",
                            "<tr><td>Yamaha FG700S</td><td>3</td></tr>",
                            "</table>"
                        ]
                    }
                }
            ],
            "execution_count": 22
        },
        {
            "cell_type": "markdown",
            "source": [
                "4\\. Using the below code cell, return a report of how many customers are from each state in the dataset. Include two columns in your output: state and total customers.\n",
                "\n",
                "Join gs\\_addresses to gs\\_customer using address\\_id and shipping\\_address\\_id"
            ],
            "metadata": {
                "language": "sql",
                "azdata_cell_guid": "45881cc8-09ac-4cf6-94e3-c78cc86da47e"
            },
            "attachments": {}
        },
        {
            "cell_type": "markdown",
            "source": [
                "**First 5 rows of correct solution**\n",
                "|state_code|total_customers|\n",
                "|---|---|\n",
                "|AK|5|\n",
                "|AR|1|\n",
                "|AZ|8|\n",
                "|CA|70|\n",
                "|CO|9|\n",
                ""
            ],
            "metadata": {
                "language": "sql",
                "azdata_cell_guid": "aca43553-72f4-4711-b921-8563c63a1502"
            },
            "attachments": {}
        },
        {
            "cell_type": "code",
            "source": [
                "--Insert your code below this line.\r\n",
                "SELECT a.state_code AS state_code,COUNT(c.customer_id) AS total_customers\r\n",
                "FROM gs_addresses AS a\r\n",
                "JOIN gs_customers AS c ON a.address_id = c.shipping_address_id\r\n",
                "GROUP BY a.state_code;\r\n",
                ""
            ],
            "metadata": {
                "language": "sql",
                "azdata_cell_guid": "63c4f7c7-ff50-472d-bb09-af92af5635d3"
            },
            "outputs": [
                {
                    "output_type": "display_data",
                    "data": {
                        "text/html": "(47 rows affected)"
                    },
                    "metadata": {}
                },
                {
                    "output_type": "display_data",
                    "data": {
                        "text/html": "Total execution time: 00:00:00.055"
                    },
                    "metadata": {}
                },
                {
                    "output_type": "execute_result",
                    "metadata": {},
                    "execution_count": 23,
                    "data": {
                        "application/vnd.dataresource+json": {
                            "schema": {
                                "fields": [
                                    {
                                        "name": "state_code"
                                    },
                                    {
                                        "name": "total_customers"
                                    }
                                ]
                            },
                            "data": [
                                {
                                    "state_code": "AK",
                                    "total_customers": "5"
                                },
                                {
                                    "state_code": "AR",
                                    "total_customers": "1"
                                },
                                {
                                    "state_code": "AZ",
                                    "total_customers": "8"
                                },
                                {
                                    "state_code": "CA",
                                    "total_customers": "70"
                                },
                                {
                                    "state_code": "CO",
                                    "total_customers": "9"
                                },
                                {
                                    "state_code": "CT",
                                    "total_customers": "5"
                                },
                                {
                                    "state_code": "DC",
                                    "total_customers": "1"
                                },
                                {
                                    "state_code": "FL",
                                    "total_customers": "28"
                                },
                                {
                                    "state_code": "GA",
                                    "total_customers": "5"
                                },
                                {
                                    "state_code": "HI",
                                    "total_customers": "3"
                                },
                                {
                                    "state_code": "IA",
                                    "total_customers": "1"
                                },
                                {
                                    "state_code": "ID",
                                    "total_customers": "3"
                                },
                                {
                                    "state_code": "IL",
                                    "total_customers": "15"
                                },
                                {
                                    "state_code": "IN",
                                    "total_customers": "9"
                                },
                                {
                                    "state_code": "KS",
                                    "total_customers": "5"
                                },
                                {
                                    "state_code": "KY",
                                    "total_customers": "1"
                                },
                                {
                                    "state_code": "LA",
                                    "total_customers": "8"
                                },
                                {
                                    "state_code": "MA",
                                    "total_customers": "10"
                                },
                                {
                                    "state_code": "MD",
                                    "total_customers": "17"
                                },
                                {
                                    "state_code": "ME",
                                    "total_customers": "2"
                                },
                                {
                                    "state_code": "MI",
                                    "total_customers": "14"
                                },
                                {
                                    "state_code": "MN",
                                    "total_customers": "7"
                                },
                                {
                                    "state_code": "MO",
                                    "total_customers": "4"
                                },
                                {
                                    "state_code": "MS",
                                    "total_customers": "4"
                                },
                                {
                                    "state_code": "MT",
                                    "total_customers": "1"
                                },
                                {
                                    "state_code": "NC",
                                    "total_customers": "8"
                                },
                                {
                                    "state_code": "ND",
                                    "total_customers": "1"
                                },
                                {
                                    "state_code": "NE",
                                    "total_customers": "3"
                                },
                                {
                                    "state_code": "NH",
                                    "total_customers": "1"
                                },
                                {
                                    "state_code": "NJ",
                                    "total_customers": "50"
                                },
                                {
                                    "state_code": "NM",
                                    "total_customers": "2"
                                },
                                {
                                    "state_code": "NV",
                                    "total_customers": "2"
                                },
                                {
                                    "state_code": "NY",
                                    "total_customers": "46"
                                },
                                {
                                    "state_code": "OH",
                                    "total_customers": "22"
                                },
                                {
                                    "state_code": "OK",
                                    "total_customers": "1"
                                },
                                {
                                    "state_code": "OR",
                                    "total_customers": "7"
                                },
                                {
                                    "state_code": "PA",
                                    "total_customers": "30"
                                },
                                {
                                    "state_code": "RI",
                                    "total_customers": "5"
                                },
                                {
                                    "state_code": "SC",
                                    "total_customers": "3"
                                },
                                {
                                    "state_code": "SD",
                                    "total_customers": "1"
                                },
                                {
                                    "state_code": "TN",
                                    "total_customers": "9"
                                },
                                {
                                    "state_code": "TX",
                                    "total_customers": "30"
                                },
                                {
                                    "state_code": "UT",
                                    "total_customers": "1"
                                },
                                {
                                    "state_code": "VA",
                                    "total_customers": "6"
                                },
                                {
                                    "state_code": "WA",
                                    "total_customers": "8"
                                },
                                {
                                    "state_code": "WI",
                                    "total_customers": "10"
                                },
                                {
                                    "state_code": "WY",
                                    "total_customers": "3"
                                }
                            ]
                        },
                        "text/html": [
                            "<table>",
                            "<tr><th>state_code</th><th>total_customers</th></tr>",
                            "<tr><td>AK</td><td>5</td></tr>",
                            "<tr><td>AR</td><td>1</td></tr>",
                            "<tr><td>AZ</td><td>8</td></tr>",
                            "<tr><td>CA</td><td>70</td></tr>",
                            "<tr><td>CO</td><td>9</td></tr>",
                            "<tr><td>CT</td><td>5</td></tr>",
                            "<tr><td>DC</td><td>1</td></tr>",
                            "<tr><td>FL</td><td>28</td></tr>",
                            "<tr><td>GA</td><td>5</td></tr>",
                            "<tr><td>HI</td><td>3</td></tr>",
                            "<tr><td>IA</td><td>1</td></tr>",
                            "<tr><td>ID</td><td>3</td></tr>",
                            "<tr><td>IL</td><td>15</td></tr>",
                            "<tr><td>IN</td><td>9</td></tr>",
                            "<tr><td>KS</td><td>5</td></tr>",
                            "<tr><td>KY</td><td>1</td></tr>",
                            "<tr><td>LA</td><td>8</td></tr>",
                            "<tr><td>MA</td><td>10</td></tr>",
                            "<tr><td>MD</td><td>17</td></tr>",
                            "<tr><td>ME</td><td>2</td></tr>",
                            "<tr><td>MI</td><td>14</td></tr>",
                            "<tr><td>MN</td><td>7</td></tr>",
                            "<tr><td>MO</td><td>4</td></tr>",
                            "<tr><td>MS</td><td>4</td></tr>",
                            "<tr><td>MT</td><td>1</td></tr>",
                            "<tr><td>NC</td><td>8</td></tr>",
                            "<tr><td>ND</td><td>1</td></tr>",
                            "<tr><td>NE</td><td>3</td></tr>",
                            "<tr><td>NH</td><td>1</td></tr>",
                            "<tr><td>NJ</td><td>50</td></tr>",
                            "<tr><td>NM</td><td>2</td></tr>",
                            "<tr><td>NV</td><td>2</td></tr>",
                            "<tr><td>NY</td><td>46</td></tr>",
                            "<tr><td>OH</td><td>22</td></tr>",
                            "<tr><td>OK</td><td>1</td></tr>",
                            "<tr><td>OR</td><td>7</td></tr>",
                            "<tr><td>PA</td><td>30</td></tr>",
                            "<tr><td>RI</td><td>5</td></tr>",
                            "<tr><td>SC</td><td>3</td></tr>",
                            "<tr><td>SD</td><td>1</td></tr>",
                            "<tr><td>TN</td><td>9</td></tr>",
                            "<tr><td>TX</td><td>30</td></tr>",
                            "<tr><td>UT</td><td>1</td></tr>",
                            "<tr><td>VA</td><td>6</td></tr>",
                            "<tr><td>WA</td><td>8</td></tr>",
                            "<tr><td>WI</td><td>10</td></tr>",
                            "<tr><td>WY</td><td>3</td></tr>",
                            "</table>"
                        ]
                    }
                }
            ],
            "execution_count": 23
        },
        {
            "cell_type": "markdown",
            "source": [
                "## **Scenario**\n",
                "\n",
                "The owner of Guitar Store wants you to create a query that will show the total amount charged for each order before shipping & tax, the order id, as well as information about the customer who placed the order. Your query will need to get the sum of all subtotals with in order and pull in the name and email of the customer.\n",
                "\n",
                "For complex queries like this, do not try to write them from top to bottom. Focus on one part of the problem and get that query working, then build and add on to it until you have the intended result.\n",
                "\n",
                "Create your query in the code cell below:"
            ],
            "metadata": {
                "language": "sql",
                "azdata_cell_guid": "48ca4832-dcda-49d0-a669-f5507420621f"
            },
            "attachments": {}
        },
        {
            "cell_type": "code",
            "source": [
                "--Insert your code below this line\n",
                ""
            ],
            "metadata": {
                "language": "sql",
                "azdata_cell_guid": "5e780b38-cee1-438b-9015-b7f346b40f03",
                "tags": []
            },
            "outputs": [],
            "execution_count": null
        },
        {
            "cell_type": "markdown",
            "source": [
                "**First 5 rows of correct solution**\n",
                "|order_id|first_name|last_name|email_address|order_total|\n",
                "|---|---|---|---|---|\n",
                "SELECT \n",
                "    c.first_name,\n",
                "    c.last_name,\n",
                "    c.email_address,\n",
                "FROM \n",
                "    gs_orders AS o\n",
                "JOIN \n",
                "    gs_customers AS c ON o.customer_id = c.customer_id\n",
                "GROUP BY \n",
                "    c.first_name,\n",
                "    c.last_name,\n",
                "    c.email_address;\n",
                "|2|Barry|Zimmer|barryz@gmail.com|303.79|\n",
                "|3|Allan|Sherwood|allan.sherwood@yahoo.com|1461.31|\n",
                "|4|Christine|Brown|christineb@solarone.com|1678.60|\n",
                "|5|David|Goldstein|david.goldstein@hotmail.com|299.00|\n",
                ""
            ],
            "metadata": {
                "language": "sql",
                "azdata_cell_guid": "9741223e-1e5a-4d46-85c5-5241523cd540"
            },
            "attachments": {}
        }
    ]
}